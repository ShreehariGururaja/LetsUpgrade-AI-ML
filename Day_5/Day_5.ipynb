{
 "cells": [
  {
   "cell_type": "code",
   "execution_count": 35,
   "metadata": {},
   "outputs": [
    {
     "name": "stdout",
     "output_type": "stream",
     "text": [
      "3\n",
      "5\n",
      "7\n",
      "11\n",
      "13\n",
      "17\n",
      "19\n",
      "23\n",
      "29\n",
      "31\n",
      "37\n",
      "41\n",
      "43\n",
      "47\n",
      "53\n",
      "59\n",
      "61\n",
      "67\n",
      "71\n",
      "73\n"
     ]
    }
   ],
   "source": [
    "# first 20 non even prime numbers.\n",
    "numl = 2\n",
    "numu = 90\n",
    "count = 0\n",
    "for num in range(numl, numu):\n",
    "    for i in range(2, num//2+2):\n",
    "        if (num % i) == 0:\n",
    "            break\n",
    "        else:\n",
    "            if count<20:\n",
    "                if i== num//2+1:\n",
    "                    print(num)\n",
    "                    count = count + 1\n",
    "                "
   ]
  },
  {
   "cell_type": "code",
   "execution_count": 60,
   "metadata": {},
   "outputs": [
    {
     "name": "stdout",
     "output_type": "stream",
     "text": [
      "53\n",
      "For men may come and men may go, but i go on forever.\n",
      "for men may come and men may go, but i go on forever.\n",
      "False\n",
      "True\n",
      "False\n",
      "False\n",
      "False\n",
      "False\n",
      "False\n",
      "FOR MEN MAY COME AND MEN MAY GO, BUT I GO ON FOREVER.\n",
      "for men may come and men may go, but i go on forever.\n",
      "for men may come and men may go, but I go on forever.\n",
      "['for', 'men', 'may', 'come', 'and', 'men', 'may', 'go,', 'but', 'I', 'go', 'on', 'forever.']\n",
      "['for men may come and men may go, but I go on forever.']\n"
     ]
    }
   ],
   "source": [
    "# 15 string functions\n",
    "s = \"for men may come and men may go, but I go on forever.\"\n",
    "print(len(s))\n",
    "print(s.capitalize())\n",
    "print(s.casefold())\n",
    "print(s.islower())\n",
    "print(s.isprintable())\n",
    "print(s.isspace())\n",
    "print(s.isnumeric())\n",
    "print(s.isupper())\n",
    "print(s.istitle())\n",
    "print(s.isalpha())\n",
    "print(s.upper())\n",
    "print(s.lower())\n",
    "print(s.strip())\n",
    "print(s.split())\n",
    "print(s.splitlines())"
   ]
  },
  {
   "cell_type": "code",
   "execution_count": 69,
   "metadata": {},
   "outputs": [
    {
     "name": "stdout",
     "output_type": "stream",
     "text": [
      "string 1: malayalam\n",
      "string 2: malayalam\n",
      "malayalam  is palindrome\n"
     ]
    }
   ],
   "source": [
    "def ispalindrome(s):\n",
    "    if s==s[::-1]:\n",
    "        return True\n",
    "    \n",
    "def isanagram(x,y):\n",
    "    if (sorted(x)==sorted(y)):\n",
    "        return True\n",
    "\n",
    "x = input(\"string 1: \")\n",
    "y = input(\"string 2: \")\n",
    "ans = ispalindrome(x)\n",
    "nas = ispalindrome(y)\n",
    "san = isanagram(x,y)\n",
    "if ans == True:\n",
    "    print(x,\" is palindrome\")\n",
    "elif nas == True:\n",
    "    print(y,\" is palindrome\")\n",
    "elif san == True:\n",
    "    print(x,\" and \",y,\" are anagram\")\n",
    "else:\n",
    "    print(\"Strings are neither palindrome nor anagram\")"
   ]
  },
  {
   "cell_type": "code",
   "execution_count": 3,
   "metadata": {},
   "outputs": [
    {
     "name": "stdout",
     "output_type": "stream",
     "text": [
      "Please enter a string: Hey, How you doing?\n",
      "heyhowyoudoing\n"
     ]
    }
   ],
   "source": [
    "def user_func(string):\n",
    "    bad_chars = [\"!\",\"@\",\"#\",\"$\",\"%\",\"^\",\"&\",\"*\",\"(\",\")\",\".\",\",\",\"?\",\" \"]\n",
    "    for i in bad_chars:\n",
    "        string = string.replace(i,\"\")\n",
    "    string = string.lower()\n",
    "    print(string)\n",
    "    \n",
    "    \n",
    "string = user_func(input(\"Please enter a string: \"))"
   ]
  },
  {
   "cell_type": "code",
   "execution_count": null,
   "metadata": {},
   "outputs": [],
   "source": []
  },
  {
   "cell_type": "code",
   "execution_count": null,
   "metadata": {},
   "outputs": [],
   "source": []
  }
 ],
 "metadata": {
  "kernelspec": {
   "display_name": "Python 3",
   "language": "python",
   "name": "python3"
  },
  "language_info": {
   "codemirror_mode": {
    "name": "ipython",
    "version": 3
   },
   "file_extension": ".py",
   "mimetype": "text/x-python",
   "name": "python",
   "nbconvert_exporter": "python",
   "pygments_lexer": "ipython3",
   "version": "3.7.6"
  }
 },
 "nbformat": 4,
 "nbformat_minor": 4
}
