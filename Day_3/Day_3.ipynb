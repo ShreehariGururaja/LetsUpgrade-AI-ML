{
 "cells": [
  {
   "cell_type": "code",
   "execution_count": 3,
   "metadata": {},
   "outputs": [
    {
     "name": "stdout",
     "output_type": "stream",
     "text": [
      "Answer:  (3+6j)\n"
     ]
    }
   ],
   "source": [
    "# Subtraction of two complex numbers.\n",
    "a1 = 1+2j\n",
    "a2 = 2+4j\n",
    "ans = a1-a2\n",
    "print(\"Answer: \",ans)"
   ]
  },
  {
   "cell_type": "code",
   "execution_count": 4,
   "metadata": {},
   "outputs": [
    {
     "name": "stdout",
     "output_type": "stream",
     "text": [
      "Answer:  5.623413251903491\n"
     ]
    }
   ],
   "source": [
    "# Fourth root of a number.\n",
    "x = 1000\n",
    "y = x**(1.0/4)\n",
    "print(\"Answer: \", y)"
   ]
  },
  {
   "cell_type": "code",
   "execution_count": 6,
   "metadata": {},
   "outputs": [
    {
     "name": "stdout",
     "output_type": "stream",
     "text": [
      "Before swap: a1 =  100  a2 =  200\n",
      "After swap: a1 =  200  a2 =  100\n"
     ]
    }
   ],
   "source": [
    "# Swapping of two number with temporary variable.\n",
    "a1 = 100\n",
    "a2 = 200\n",
    "print(\"Before swap: a1 = \",a1,\" a2 = \",a2)\n",
    "temp = a1\n",
    "a1 = a2\n",
    "a2 = temp\n",
    "print(\"After swap: a1 = \",a1,\" a2 = \",a2)"
   ]
  },
  {
   "cell_type": "code",
   "execution_count": 7,
   "metadata": {},
   "outputs": [
    {
     "name": "stdout",
     "output_type": "stream",
     "text": [
      "Before swap: a1 =  100  a2 =  200\n",
      "After swap: a1 =  200  a2 =  100\n"
     ]
    }
   ],
   "source": [
    "# Swapping of two number without temporary variable\n",
    "a1 = 100\n",
    "a2 = 200\n",
    "print(\"Before swap: a1 = \",a1,\" a2 = \",a2)\n",
    "a1,a2=a2,a1\n",
    "print(\"After swap: a1 = \",a1,\" a2 = \",a2)"
   ]
  },
  {
   "cell_type": "code",
   "execution_count": 2,
   "metadata": {},
   "outputs": [
    {
     "name": "stdout",
     "output_type": "stream",
     "text": [
      "Temperature in fahrenhit:  32\n",
      "Temperature in celsius:  0.0\n",
      "Temperature in kelvin:  273.5\n"
     ]
    }
   ],
   "source": [
    "# Convert fahrenhit to celsius and kelvin\n",
    "fah = 32\n",
    "kel = 273.5+((fah-32.0)*(5.0/9.0)) \n",
    "cel = ((fah-32.0)*(5.0/9.0))\n",
    "print(\"Temperature in fahrenhit: \",fah)\n",
    "print(\"Temperature in celsius: \",cel)\n",
    "print(\"Temperature in kelvin: \",kel)"
   ]
  },
  {
   "cell_type": "code",
   "execution_count": 7,
   "metadata": {},
   "outputs": [
    {
     "name": "stdout",
     "output_type": "stream",
     "text": [
      "<class 'int'>\n",
      "<class 'float'>\n",
      "<class 'complex'>\n",
      "<class 'bool'>\n",
      "<class 'str'>\n",
      "<class 'list'>\n",
      "<class 'tuple'>\n",
      "<class 'dict'>\n"
     ]
    }
   ],
   "source": [
    "# Datatype in python\n",
    "print(type(100))\n",
    "print(type(100.00))\n",
    "print(type(100+10j))\n",
    "print(type(True))\n",
    "print(type(\"Hello\"))\n",
    "print(type([1,2,3,4]))\n",
    "print(type((1,2,3,4)))\n",
    "print(type({1:\"one\", 2:\"two\", 3:\"three\", 4:\"four\"}))\n",
    "\n"
   ]
  },
  {
   "cell_type": "markdown",
   "metadata": {},
   "source": [
    "# Steps to work on github\n",
    "\n",
    "1. Open github.com in browser.\n",
    "2. create an account by signing up.\n",
    "3. create repositary by the name \"LetsUpgrade AI/ML\"\n",
    "4. upload the folder to the repositary.\n",
    "5. copy the link on the google form provided."
   ]
  },
  {
   "cell_type": "code",
   "execution_count": null,
   "metadata": {},
   "outputs": [],
   "source": []
  }
 ],
 "metadata": {
  "kernelspec": {
   "display_name": "Python 3",
   "language": "python",
   "name": "python3"
  },
  "language_info": {
   "codemirror_mode": {
    "name": "ipython",
    "version": 3
   },
   "file_extension": ".py",
   "mimetype": "text/x-python",
   "name": "python",
   "nbconvert_exporter": "python",
   "pygments_lexer": "ipython3",
   "version": "3.7.6"
  }
 },
 "nbformat": 4,
 "nbformat_minor": 4
}
