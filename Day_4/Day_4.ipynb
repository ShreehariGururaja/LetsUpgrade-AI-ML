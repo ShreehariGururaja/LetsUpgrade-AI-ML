{
 "cells": [
  {
   "cell_type": "code",
   "execution_count": 3,
   "metadata": {},
   "outputs": [
    {
     "name": "stdout",
     "output_type": "stream",
     "text": [
      "Addition:  (3+6j)\n",
      "Subtraction:  (-1-2j)\n",
      "Multiplication:  (-6+8j)\n",
      "Division:  (0.5+0j)\n"
     ]
    }
   ],
   "source": [
    "# Addition, subtraction, multiplication and division of complex numbers.\n",
    "c1 = 1+2j\n",
    "c2 = 2+4j\n",
    "print(\"Addition: \",c1+c2)\n",
    "print(\"Subtraction: \",c1-c2)\n",
    "print(\"Multiplication: \",c1*c2)\n",
    "print(\"Division: \",(c1/c2))\n",
    "# Modulo operation cannot be done on complex numbers."
   ]
  },
  {
   "cell_type": "markdown",
   "metadata": {},
   "source": [
    "# Range Function\n",
    "Range is used as an array to keep count in the program. The counting starts from 0 and ends at n-1 where n is the last number of the range. The format is range(start, stop, stepper) where the start is default 0 and stepper is default to 1.\n"
   ]
  },
  {
   "cell_type": "code",
   "execution_count": 6,
   "metadata": {},
   "outputs": [
    {
     "name": "stdout",
     "output_type": "stream",
     "text": [
      "3\n",
      "4\n",
      "5\n",
      "6\n"
     ]
    }
   ],
   "source": [
    "r = range(3,7,1)\n",
    "for i in r:\n",
    "    print(i)"
   ]
  },
  {
   "cell_type": "code",
   "execution_count": 9,
   "metadata": {},
   "outputs": [
    {
     "name": "stdout",
     "output_type": "stream",
     "text": [
      "Multiplication:  15000\n"
     ]
    }
   ],
   "source": [
    "# 3\n",
    "first = 500\n",
    "second = 30\n",
    "sub = first-second\n",
    "if sub>25:\n",
    "    mul = first*second\n",
    "    print(\"Multiplication: \",mul)\n",
    "else:\n",
    "    div = int(first/second)\n",
    "    print(\"Division: \", div)\n",
    "    "
   ]
  },
  {
   "cell_type": "code",
   "execution_count": 12,
   "metadata": {},
   "outputs": [
    {
     "name": "stdout",
     "output_type": "stream",
     "text": [
      "4\n",
      "16\n",
      "36\n",
      "64\n",
      "100\n"
     ]
    }
   ],
   "source": [
    "# 4\n",
    "l=(1,2,3,4,5,6,7,8,9,10)\n",
    "for i in l:\n",
    "    if i%2 == 0:\n",
    "         print(i**2)\n",
    "    else:\n",
    "        continue\n"
   ]
  },
  {
   "cell_type": "code",
   "execution_count": 15,
   "metadata": {},
   "outputs": [
    {
     "name": "stdout",
     "output_type": "stream",
     "text": [
      "8 Number divided by two:  4\n",
      "9 Number divided by two:  4\n",
      "10 Number divided by two:  5\n"
     ]
    }
   ],
   "source": [
    "# 5\n",
    "l = (1,2,3,4,5,6,7,8,9,10)\n",
    "for i in l:\n",
    "    if i>7:\n",
    "        div = int(i/2)\n",
    "        print(i,\"Number divided by two: \",div)\n",
    "    else:\n",
    "        continue"
   ]
  },
  {
   "cell_type": "code",
   "execution_count": null,
   "metadata": {},
   "outputs": [],
   "source": []
  }
 ],
 "metadata": {
  "kernelspec": {
   "display_name": "Python 3",
   "language": "python",
   "name": "python3"
  },
  "language_info": {
   "codemirror_mode": {
    "name": "ipython",
    "version": 3
   },
   "file_extension": ".py",
   "mimetype": "text/x-python",
   "name": "python",
   "nbconvert_exporter": "python",
   "pygments_lexer": "ipython3",
   "version": "3.7.6"
  }
 },
 "nbformat": 4,
 "nbformat_minor": 4
}
